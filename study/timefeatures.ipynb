{
 "cells": [
  {
   "cell_type": "code",
   "execution_count": 107,
   "metadata": {
    "collapsed": true
   },
   "outputs": [],
   "source": [
    "import datetime\n",
    "\n",
    "import jax\n",
    "import numpy as np\n",
    "import pandas as pd\n",
    "import datetime\n",
    "import os\n",
    "import torch\n",
    "from torch.utils.data import Dataset, random_split, DataLoader\n",
    "from importlib import reload\n",
    "\n",
    "import sys\n",
    "\n",
    "import data_provider.data_prep, data_provider.data_loader, utils.timefeatures\n",
    "\n",
    "reload(data_provider.data_prep)\n",
    "reload(data_provider.data_loader)\n",
    "reload(utils.timefeatures)\n",
    "\n",
    "pd.set_option(\"display.max_columns\", None)"
   ]
  },
  {
   "cell_type": "markdown",
   "source": [
    "# CSV file function"
   ],
   "metadata": {
    "collapsed": false
   }
  },
  {
   "cell_type": "code",
   "execution_count": 217,
   "outputs": [
    {
     "name": "stdout",
     "output_type": "stream",
     "text": [
      "CPU times: user 21.1 s, sys: 28.2 ms, total: 21.2 s\n",
      "Wall time: 21.2 s\n"
     ]
    }
   ],
   "source": [
    "%%time\n",
    "# sample from the trading data\n",
    "def downsampling(df, freq=\"10S\", use_weighted_mean=True):\n",
    "    \"\"\"\n",
    "    Return a dictionary with buy side and sell side prices and volumes of different levels, with missing values unhandled.\n",
    "    \"\"\"\n",
    "    # grp_df = df.groupby(pd.Grouper(freq=freq))\n",
    "    grp_df = df.set_index('time').resample(f'{freq}')\n",
    "\n",
    "    if use_weighted_mean:\n",
    "        def _agg_price(level, side=\"Ask\"): # period price = weighted mean\n",
    "            return lambda x: np.mean(np.repeat(x[f'L{level}-{side}Price'], x[f'L{level}-{side}Size']))\n",
    "    else:\n",
    "        def _agg_price(level, side=\"Ask\"): # period price =  price with largest single-transaction volume\n",
    "            return lambda x: df['L1-AskPrice'][df['L1-AskSize'].argmax()]\n",
    "    def _agg_size(level, side=\"Ask\"):\n",
    "        return lambda x: np.sum(x[f'L{level}-{side}Size'])\n",
    "\n",
    "    my_dict = {}\n",
    "    my_dict['_p_Ask'], my_dict['_q_Ask'], my_dict['_p_Bid'], my_dict['_q_Bid'] = [], [], [], []\n",
    "\n",
    "    for i in range(1,11):\n",
    "        for side in ['Ask','Bid']:\n",
    "            _p = grp_df.apply(_agg_price(i,side=side)).rename(f'L{i}_{side}Price').transform(lambda x: x.fillna(method='ffill'))\n",
    "            _q = grp_df.apply(_agg_size(i,side=side)).rename(f'L{i}_{side}Size').transform(lambda x: x.fillna(0))\n",
    "            my_dict[f'_p_{side}'].append(_p)\n",
    "            my_dict[f'_q_{side}'].append(_q)\n",
    "\n",
    "    return my_dict\n",
    "\n",
    "my_dict = downsampling(df, freq=\"10S\", use_weighted_mean=True)"
   ],
   "metadata": {
    "collapsed": false
   }
  },
  {
   "cell_type": "code",
   "execution_count": 219,
   "outputs": [
    {
     "data": {
      "text/plain": "array([[ 6.96224346,  7.98582467,  8.59951023,  9.44192817, 10.26346703,\n        10.46216004, 10.76947397, 11.07294655, 11.17237693, 11.30404225],\n       [ 6.73933663,  7.40913644,  7.7406644 ,  8.0426995 ,  8.72826416,\n         8.87388814,  9.69541733,  9.7464243 ,  9.80879218, 10.23433687],\n       [ 5.80513497,  6.80682936,  7.14834574,  7.40306109,  7.84227878,\n         8.26487826,  8.71358201,  9.18122047,  9.23561818,  9.4417695 ]])"
     },
     "execution_count": 219,
     "metadata": {},
     "output_type": "execute_result"
    }
   ],
   "source": [
    "def create_pv_array(my_dict):\n",
    "    \"\"\"process a dictionary produced by downsampling function and return numpy array\"\"\"\n",
    "    # Price: A1 < A2 < A3 ... B1 is highest bidder\n",
    "    _p_A_lh = pd.concat( my_dict['_p_Ask'], axis=1) # price of ask side from low->high price\n",
    "    _q_A_lh = pd.concat( my_dict['_q_Ask'], axis=1) # quantity of ask side from low->high price\n",
    "    _logcum_q_A_lh = np.log(_q_A_lh.cumsum(axis=1)) # log of cumulative sum over a set of (low->high) price points\n",
    "    # Price: B1 > B2 > B3 ... B1 is highest bidder\n",
    "    _p_B_lh = pd.concat( my_dict['_p_Bid'][::-1], axis=1) # price of ask side from low->high price\n",
    "    _q_B_lh = pd.concat( my_dict['_q_Bid'][::-1], axis=1) # quantity of ask side from low->high\n",
    "    _q_B_hl = pd.concat( my_dict['_q_Bid'], axis=1) # quantity of ask side from high->low price\n",
    "    _logcum_q_B_lh = np.log(_q_B_hl[_q_B_hl.columns[::-1]].cumsum(axis=1)) # log of cumulative sum over a set of (low->high) price\n",
    "\n",
    "    return np.dstack([_p_A_lh, _logcum_q_A_lh, _p_B_lh, _logcum_q_B_lh])\n",
    "\n",
    "np_arr = create_pv_array(my_dict)\n",
    "np_arr[:,:,1][0:3]"
   ],
   "metadata": {
    "collapsed": false
   }
  },
  {
   "cell_type": "markdown",
   "source": [
    "# CSV file process walkthrough"
   ],
   "metadata": {
    "collapsed": false
   }
  },
  {
   "cell_type": "code",
   "execution_count": 109,
   "outputs": [
    {
     "name": "stdout",
     "output_type": "stream",
     "text": [
      "total length 41869\n",
      "18.0, 1299, 553.0time\n",
      "2022-01-11 08:30:00+00:00    17.964051\n",
      "2022-01-11 08:30:05+00:00    17.946382\n",
      "2022-01-11 08:30:10+00:00    17.940000\n",
      "2022-01-11 08:30:15+00:00    17.940000\n",
      "2022-01-11 08:30:20+00:00    17.940000\n",
      "                               ...    \n",
      "2022-01-11 17:59:40+00:00    18.117795\n",
      "2022-01-11 17:59:45+00:00    18.117619\n",
      "2022-01-11 17:59:50+00:00    18.118746\n",
      "2022-01-11 17:59:55+00:00    18.128299\n",
      "2022-01-11 18:00:00+00:00    18.140207\n",
      "Freq: 5S, Length: 6841, dtype: float64\n"
     ]
    }
   ],
   "source": [
    "df = pd.read_csv(f\"../data/SB/raw/SB_2022-01-11.csv\")\n",
    "\n",
    "# https://pandas.pydata.org/docs/reference/api/pandas.DataFrame.'time'.html\n",
    "df.rename(columns = {'Date-Time' : 'time'}, inplace = True)\n",
    "df['time'] = pd.to_datetime(df['time'])\n",
    "print(f'total length {len(df)}')\n",
    "\n",
    "# datetime64 ns utc to datetime\n",
    "# https://stackoverflow.com/questions/62917882/convert-datetime64ns-utc-pandas-column-to-datetime\n",
    "\n",
    "select_cols = [\"time\"]\n",
    "price_cols = []\n",
    "size_cols = []\n",
    "\n",
    "for k in range(1, 11):\n",
    "    price_cols += [f\"L{k}-AskPrice\", f\"L{k}-BidPrice\"]\n",
    "    size_cols += [f\"L{k}-AskSize\", f\"L{k}-BidSize\"]\n",
    "    select_cols += [f'L{k}-AskPrice', f'L{k}-BidPrice', f'L{k}-AskSize', f'L{k}-BidSize']\n",
    "df = df[select_cols]\n",
    "df = df.dropna()\n",
    "# df.set_index('time', inplace=True)\n",
    "\n",
    "#--- demo of several functions\n",
    "def price_mode(level, side=\"Ask\"):\n",
    "    return lambda x: df['L1-AskPrice'][df['L1-AskSize'].argmax()]\n",
    "\n",
    "def size_total(level, side=\"Ask\"):\n",
    "    return lambda x: np.sum(x[f'L{level}-{side}Size'])\n",
    "\n",
    "# general way of calculated weighted mean/median without zero-division error\n",
    "def wt_mean(level, side=\"Ask\"):\n",
    "    return lambda x: np.mean(np.repeat(x[f'L{level}-{side}Price'], x[f'L{level}-{side}Size']))\n",
    "\n",
    "grp_df = df.groupby(pd.Grouper(key='time',freq=\"5S\"))\n",
    "\n",
    "res = grp_df.apply(wt_mean(1, side='Ask'))\n",
    "print(f'{grp_df.apply(price_mode(1))[0]}, {sum(res.isnull())}, '\n",
    "      f'{grp_df.apply(size_total(1))[0]}'\n",
    "      f'{res}')"
   ],
   "metadata": {
    "collapsed": false
   }
  },
  {
   "cell_type": "code",
   "execution_count": 135,
   "outputs": [
    {
     "name": "stdout",
     "output_type": "stream",
     "text": [
      "26.0\n",
      "26\n",
      "26.0\n"
     ]
    }
   ],
   "source": [
    "# when price is weighted mean, vol is total, we can recover the total traded amount\n",
    "A = np.arange(6).reshape(3,2)\n",
    "_wt = np.mean(np.repeat(A[:,0], A[:,1]))\n",
    "\n",
    "print(np.sum(_wt  * A[:,1], axis=None))\n",
    "print(np.sum(A[:, 0] * A[:, 1]))\n",
    "print(np.sum(_wt * np.sum(A[:,1]),axis=0))"
   ],
   "metadata": {
    "collapsed": false
   }
  },
  {
   "cell_type": "code",
   "execution_count": 117,
   "outputs": [
    {
     "data": {
      "text/plain": "                           L1-AskPrice  L1-BidPrice  L1-AskSize  L1-BidSize  \\\ntime                                                                          \n2022-01-11 08:31:50+00:00          NaN          NaN         NaN         NaN   \n2022-01-11 08:31:55+00:00          NaN          NaN         NaN         NaN   \n\n                           L2-AskPrice  L2-BidPrice  L2-AskSize  L2-BidSize  \\\ntime                                                                          \n2022-01-11 08:31:50+00:00          NaN          NaN         NaN         NaN   \n2022-01-11 08:31:55+00:00          NaN          NaN         NaN         NaN   \n\n                           L3-AskPrice  L3-BidPrice  ...  L8-AskSize  \\\ntime                                                 ...               \n2022-01-11 08:31:50+00:00          NaN          NaN  ...         NaN   \n2022-01-11 08:31:55+00:00          NaN          NaN  ...         NaN   \n\n                           L8-BidSize  L9-AskPrice  L9-BidPrice  L9-AskSize  \\\ntime                                                                          \n2022-01-11 08:31:50+00:00         NaN          NaN          NaN         NaN   \n2022-01-11 08:31:55+00:00         NaN          NaN          NaN         NaN   \n\n                           L9-BidSize  L10-AskPrice  L10-BidPrice  \\\ntime                                                                \n2022-01-11 08:31:50+00:00         NaN           NaN           NaN   \n2022-01-11 08:31:55+00:00         NaN           NaN           NaN   \n\n                           L10-AskSize  L10-BidSize  \ntime                                                 \n2022-01-11 08:31:50+00:00          NaN          NaN  \n2022-01-11 08:31:55+00:00          NaN          NaN  \n\n[2 rows x 40 columns]",
      "text/html": "<div>\n<style scoped>\n    .dataframe tbody tr th:only-of-type {\n        vertical-align: middle;\n    }\n\n    .dataframe tbody tr th {\n        vertical-align: top;\n    }\n\n    .dataframe thead th {\n        text-align: right;\n    }\n</style>\n<table border=\"1\" class=\"dataframe\">\n  <thead>\n    <tr style=\"text-align: right;\">\n      <th></th>\n      <th>L1-AskPrice</th>\n      <th>L1-BidPrice</th>\n      <th>L1-AskSize</th>\n      <th>L1-BidSize</th>\n      <th>L2-AskPrice</th>\n      <th>L2-BidPrice</th>\n      <th>L2-AskSize</th>\n      <th>L2-BidSize</th>\n      <th>L3-AskPrice</th>\n      <th>L3-BidPrice</th>\n      <th>...</th>\n      <th>L8-AskSize</th>\n      <th>L8-BidSize</th>\n      <th>L9-AskPrice</th>\n      <th>L9-BidPrice</th>\n      <th>L9-AskSize</th>\n      <th>L9-BidSize</th>\n      <th>L10-AskPrice</th>\n      <th>L10-BidPrice</th>\n      <th>L10-AskSize</th>\n      <th>L10-BidSize</th>\n    </tr>\n    <tr>\n      <th>time</th>\n      <th></th>\n      <th></th>\n      <th></th>\n      <th></th>\n      <th></th>\n      <th></th>\n      <th></th>\n      <th></th>\n      <th></th>\n      <th></th>\n      <th></th>\n      <th></th>\n      <th></th>\n      <th></th>\n      <th></th>\n      <th></th>\n      <th></th>\n      <th></th>\n      <th></th>\n      <th></th>\n      <th></th>\n    </tr>\n  </thead>\n  <tbody>\n    <tr>\n      <th>2022-01-11 08:31:50+00:00</th>\n      <td>NaN</td>\n      <td>NaN</td>\n      <td>NaN</td>\n      <td>NaN</td>\n      <td>NaN</td>\n      <td>NaN</td>\n      <td>NaN</td>\n      <td>NaN</td>\n      <td>NaN</td>\n      <td>NaN</td>\n      <td>...</td>\n      <td>NaN</td>\n      <td>NaN</td>\n      <td>NaN</td>\n      <td>NaN</td>\n      <td>NaN</td>\n      <td>NaN</td>\n      <td>NaN</td>\n      <td>NaN</td>\n      <td>NaN</td>\n      <td>NaN</td>\n    </tr>\n    <tr>\n      <th>2022-01-11 08:31:55+00:00</th>\n      <td>NaN</td>\n      <td>NaN</td>\n      <td>NaN</td>\n      <td>NaN</td>\n      <td>NaN</td>\n      <td>NaN</td>\n      <td>NaN</td>\n      <td>NaN</td>\n      <td>NaN</td>\n      <td>NaN</td>\n      <td>...</td>\n      <td>NaN</td>\n      <td>NaN</td>\n      <td>NaN</td>\n      <td>NaN</td>\n      <td>NaN</td>\n      <td>NaN</td>\n      <td>NaN</td>\n      <td>NaN</td>\n      <td>NaN</td>\n      <td>NaN</td>\n    </tr>\n  </tbody>\n</table>\n<p>2 rows × 40 columns</p>\n</div>"
     },
     "execution_count": 117,
     "metadata": {},
     "output_type": "execute_result"
    }
   ],
   "source": [
    "# we have empties for some periods at resampled frequencies\n",
    "tmp = grp_df.mean()\n",
    "null_idx = tmp.isnull().any(axis=1)\n",
    "tmp[null_idx].head(2)"
   ],
   "metadata": {
    "collapsed": false
   }
  },
  {
   "cell_type": "code",
   "execution_count": 136,
   "outputs": [
    {
     "data": {
      "text/plain": "                           L1-AskPrice  L1-BidPrice  L1-AskSize  L1-BidSize  \\\ntime                                                                          \n2022-01-11 08:31:50+00:00        17.94        17.93         0.0         0.0   \n2022-01-11 08:31:55+00:00        17.94        17.93         0.0         0.0   \n\n                           L2-AskPrice  L2-BidPrice  L2-AskSize  L2-BidSize  \\\ntime                                                                          \n2022-01-11 08:31:50+00:00        17.95        17.92         0.0         0.0   \n2022-01-11 08:31:55+00:00        17.95        17.92         0.0         0.0   \n\n                           L3-AskPrice  L3-BidPrice  ...  L8-AskSize  \\\ntime                                                 ...               \n2022-01-11 08:31:50+00:00        17.96        17.91  ...         0.0   \n2022-01-11 08:31:55+00:00        17.96        17.91  ...         0.0   \n\n                           L8-BidSize  L9-AskPrice  L9-BidPrice  L9-AskSize  \\\ntime                                                                          \n2022-01-11 08:31:50+00:00         0.0        18.02        17.85         0.0   \n2022-01-11 08:31:55+00:00         0.0        18.02        17.85         0.0   \n\n                           L9-BidSize  L10-AskPrice  L10-BidPrice  \\\ntime                                                                \n2022-01-11 08:31:50+00:00         0.0         18.03         17.84   \n2022-01-11 08:31:55+00:00         0.0         18.03         17.84   \n\n                           L10-AskSize  L10-BidSize  \ntime                                                 \n2022-01-11 08:31:50+00:00          0.0          0.0  \n2022-01-11 08:31:55+00:00          0.0          0.0  \n\n[2 rows x 40 columns]",
      "text/html": "<div>\n<style scoped>\n    .dataframe tbody tr th:only-of-type {\n        vertical-align: middle;\n    }\n\n    .dataframe tbody tr th {\n        vertical-align: top;\n    }\n\n    .dataframe thead th {\n        text-align: right;\n    }\n</style>\n<table border=\"1\" class=\"dataframe\">\n  <thead>\n    <tr style=\"text-align: right;\">\n      <th></th>\n      <th>L1-AskPrice</th>\n      <th>L1-BidPrice</th>\n      <th>L1-AskSize</th>\n      <th>L1-BidSize</th>\n      <th>L2-AskPrice</th>\n      <th>L2-BidPrice</th>\n      <th>L2-AskSize</th>\n      <th>L2-BidSize</th>\n      <th>L3-AskPrice</th>\n      <th>L3-BidPrice</th>\n      <th>...</th>\n      <th>L8-AskSize</th>\n      <th>L8-BidSize</th>\n      <th>L9-AskPrice</th>\n      <th>L9-BidPrice</th>\n      <th>L9-AskSize</th>\n      <th>L9-BidSize</th>\n      <th>L10-AskPrice</th>\n      <th>L10-BidPrice</th>\n      <th>L10-AskSize</th>\n      <th>L10-BidSize</th>\n    </tr>\n    <tr>\n      <th>time</th>\n      <th></th>\n      <th></th>\n      <th></th>\n      <th></th>\n      <th></th>\n      <th></th>\n      <th></th>\n      <th></th>\n      <th></th>\n      <th></th>\n      <th></th>\n      <th></th>\n      <th></th>\n      <th></th>\n      <th></th>\n      <th></th>\n      <th></th>\n      <th></th>\n      <th></th>\n      <th></th>\n      <th></th>\n    </tr>\n  </thead>\n  <tbody>\n    <tr>\n      <th>2022-01-11 08:31:50+00:00</th>\n      <td>17.94</td>\n      <td>17.93</td>\n      <td>0.0</td>\n      <td>0.0</td>\n      <td>17.95</td>\n      <td>17.92</td>\n      <td>0.0</td>\n      <td>0.0</td>\n      <td>17.96</td>\n      <td>17.91</td>\n      <td>...</td>\n      <td>0.0</td>\n      <td>0.0</td>\n      <td>18.02</td>\n      <td>17.85</td>\n      <td>0.0</td>\n      <td>0.0</td>\n      <td>18.03</td>\n      <td>17.84</td>\n      <td>0.0</td>\n      <td>0.0</td>\n    </tr>\n    <tr>\n      <th>2022-01-11 08:31:55+00:00</th>\n      <td>17.94</td>\n      <td>17.93</td>\n      <td>0.0</td>\n      <td>0.0</td>\n      <td>17.95</td>\n      <td>17.92</td>\n      <td>0.0</td>\n      <td>0.0</td>\n      <td>17.96</td>\n      <td>17.91</td>\n      <td>...</td>\n      <td>0.0</td>\n      <td>0.0</td>\n      <td>18.02</td>\n      <td>17.85</td>\n      <td>0.0</td>\n      <td>0.0</td>\n      <td>18.03</td>\n      <td>17.84</td>\n      <td>0.0</td>\n      <td>0.0</td>\n    </tr>\n  </tbody>\n</table>\n<p>2 rows × 40 columns</p>\n</div>"
     },
     "execution_count": 136,
     "metadata": {},
     "output_type": "execute_result"
    }
   ],
   "source": [
    "tmp[price_cols] = tmp[price_cols].fillna(method='ffill')\n",
    "tmp[size_cols] = tmp[size_cols].fillna(0)\n",
    "tmp[null_idx].head(2)"
   ],
   "metadata": {
    "collapsed": false
   }
  },
  {
   "cell_type": "code",
   "execution_count": 113,
   "outputs": [
    {
     "data": {
      "text/plain": "                           L1-AskPrice  L1-BidPrice  L1-AskSize  L1-BidSize  \\\ntime                                                                          \n2022-01-11 08:30:00+00:00      2819.29      2817.02      1056.0      2759.0   \n2022-01-11 08:30:10+00:00       897.00       896.50       845.0       901.0   \n2022-01-11 08:30:20+00:00       520.07       519.78       332.0       808.0   \n2022-01-11 08:30:30+00:00       484.11       483.84       452.0       409.0   \n2022-01-11 08:30:40+00:00       233.09       232.96       390.0       111.0   \n...                                ...          ...         ...         ...   \n2022-01-11 17:59:20+00:00       597.80       597.47      1008.0       678.0   \n2022-01-11 17:59:30+00:00       380.51       380.24       682.0       346.0   \n2022-01-11 17:59:40+00:00       452.84       452.53       406.0       809.0   \n2022-01-11 17:59:50+00:00       978.52       977.83       893.0      1023.0   \n2022-01-11 18:00:00+00:00      4462.94      4452.69      4831.0       467.0   \n\n                           L2-AskPrice  L2-BidPrice  L2-AskSize  L2-BidSize  \\\ntime                                                                          \n2022-01-11 08:30:00+00:00      2820.86      2815.24      1883.0      1314.0   \n2022-01-11 08:30:10+00:00       897.50       896.00       806.0       540.0   \n2022-01-11 08:30:20+00:00       520.36       519.49       572.0       446.0   \n2022-01-11 08:30:30+00:00       484.38       483.57       679.0       524.0   \n2022-01-11 08:30:40+00:00       233.22       232.83       222.0       240.0   \n...                                ...          ...         ...         ...   \n2022-01-11 17:59:20+00:00       598.13       597.14       907.0      1305.0   \n2022-01-11 17:59:30+00:00       380.72       380.03       638.0       802.0   \n2022-01-11 17:59:40+00:00       453.09       452.28       645.0       783.0   \n2022-01-11 17:59:50+00:00       979.06       977.29      1544.0      1325.0   \n2022-01-11 18:00:00+00:00      4465.90      4443.91      4564.0      3411.0   \n\n                           L3-AskPrice  L3-BidPrice  L3-AskSize  L3-BidSize  \\\ntime                                                                          \n2022-01-11 08:30:00+00:00      2822.43      2813.67      2490.0      1648.0   \n2022-01-11 08:30:10+00:00       898.00       895.50       649.0       740.0   \n2022-01-11 08:30:20+00:00       520.65       519.20       368.0      1215.0   \n2022-01-11 08:30:30+00:00       484.65       483.30       270.0      1485.0   \n2022-01-11 08:30:40+00:00       233.35       232.70       131.0       716.0   \n...                                ...          ...         ...         ...   \n2022-01-11 17:59:20+00:00       598.46       596.81      1633.0      1809.0   \n2022-01-11 17:59:30+00:00       380.93       379.82      1371.0      1015.0   \n2022-01-11 17:59:40+00:00       453.34       452.03      1060.0      1259.0   \n2022-01-11 17:59:50+00:00       979.60       976.75      2952.0      2155.0   \n2022-01-11 18:00:00+00:00      4468.58      4438.47     11181.0      3151.0   \n\n                           L4-AskPrice  L4-BidPrice  L4-AskSize  L4-BidSize  \\\ntime                                                                          \n2022-01-11 08:30:00+00:00      2824.00      2812.10      7177.0      3336.0   \n2022-01-11 08:30:10+00:00       898.50       895.00       811.0      2800.0   \n2022-01-11 08:30:20+00:00       520.94       518.91       369.0       787.0   \n2022-01-11 08:30:30+00:00       484.92       483.03       382.0       324.0   \n2022-01-11 08:30:40+00:00       233.48       232.57       208.0       156.0   \n...                                ...          ...         ...         ...   \n2022-01-11 17:59:20+00:00       598.79       596.48      2298.0      1839.0   \n2022-01-11 17:59:30+00:00       381.14       379.61      1527.0      1163.0   \n2022-01-11 17:59:40+00:00       453.59       451.78      1716.0      1284.0   \n2022-01-11 17:59:50+00:00       980.14       976.21      3657.0      2466.0   \n2022-01-11 18:00:00+00:00      4474.53      4434.39      1420.0      4607.0   \n\n                           L5-AskPrice  L5-BidPrice  L5-AskSize  L5-BidSize  \\\ntime                                                                          \n2022-01-11 08:30:00+00:00      2825.57      2810.53     16060.0      4640.0   \n2022-01-11 08:30:10+00:00       899.00       894.50      3064.0       750.0   \n2022-01-11 08:30:20+00:00       521.23       518.62       905.0       325.0   \n2022-01-11 08:30:30+00:00       485.19       482.76       432.0       270.0   \n2022-01-11 08:30:40+00:00       233.61       232.44       209.0       131.0   \n...                                ...          ...         ...         ...   \n2022-01-11 17:59:20+00:00       599.12       596.15      2593.0      1782.0   \n2022-01-11 17:59:30+00:00       381.35       379.40      1693.0      1135.0   \n2022-01-11 17:59:40+00:00       453.84       451.53      1897.0      1379.0   \n2022-01-11 17:59:50+00:00       980.68       975.67      3229.0      2796.0   \n2022-01-11 18:00:00+00:00      4477.72      4429.16      2289.0      7349.0   \n\n                           L6-AskPrice  L6-BidPrice  L6-AskSize  L6-BidSize  \\\ntime                                                                          \n2022-01-11 08:30:00+00:00      2827.14      2808.96      6301.0      4514.0   \n2022-01-11 08:30:10+00:00       899.50       894.00       968.0       568.0   \n2022-01-11 08:30:20+00:00       521.52       518.33      1339.0       423.0   \n2022-01-11 08:30:30+00:00       485.46       482.49      1620.0       459.0   \n2022-01-11 08:30:40+00:00       233.74       232.31       780.0       221.0   \n...                                ...          ...         ...         ...   \n2022-01-11 17:59:20+00:00       599.45       595.82      1740.0      2742.0   \n2022-01-11 17:59:30+00:00       381.56       379.19       541.0      1547.0   \n2022-01-11 17:59:40+00:00       454.09       451.28      1503.0      2604.0   \n2022-01-11 17:59:50+00:00       981.22       975.13      1795.0      4159.0   \n2022-01-11 18:00:00+00:00      4487.94      4425.06      7211.0      4949.0   \n\n                           L7-AskPrice  L7-BidPrice  L7-AskSize  L7-BidSize  \\\ntime                                                                          \n2022-01-11 08:30:00+00:00      2828.71      2807.39     12580.0      1788.0   \n2022-01-11 08:30:10+00:00       900.00       893.50      9100.0       600.0   \n2022-01-11 08:30:20+00:00       521.81       518.04      2200.0       615.0   \n2022-01-11 08:30:30+00:00       485.73       482.22       540.0       675.0   \n2022-01-11 08:30:40+00:00       233.87       232.18       260.0       325.0   \n...                                ...          ...         ...         ...   \n2022-01-11 17:59:20+00:00       599.78       595.49       786.0      2240.0   \n2022-01-11 17:59:30+00:00       381.77       378.98       533.0      1701.0   \n2022-01-11 17:59:40+00:00       454.34       451.03       593.0       751.0   \n2022-01-11 17:59:50+00:00       981.76       974.59      1726.0      3011.0   \n2022-01-11 18:00:00+00:00      4498.26      4420.23     18797.0     11924.0   \n\n                           L8-AskPrice  L8-BidPrice  L8-AskSize  L8-BidSize  \\\ntime                                                                          \n2022-01-11 08:30:00+00:00      2830.28      2805.82     16858.0      1324.0   \n2022-01-11 08:30:10+00:00       900.50       893.00       850.0      1088.0   \n2022-01-11 08:30:20+00:00       522.10       517.75      3628.0      1561.0   \n2022-01-11 08:30:30+00:00       486.00       481.95      4914.0      1863.0   \n2022-01-11 08:30:40+00:00       234.00       232.05      2361.0       897.0   \n...                                ...          ...         ...         ...   \n2022-01-11 17:59:20+00:00       600.11       595.16      1047.0       773.0   \n2022-01-11 17:59:30+00:00       381.98       378.77       844.0       448.0   \n2022-01-11 17:59:40+00:00       454.59       450.78       759.0       673.0   \n2022-01-11 17:59:50+00:00       982.30       974.05      3121.0      2358.0   \n2022-01-11 18:00:00+00:00      4505.90      4415.05      4967.0      4924.0   \n\n                           L9-AskPrice  L9-BidPrice  L9-AskSize  L9-BidSize  \\\ntime                                                                          \n2022-01-11 08:30:00+00:00      2831.85      2804.25      6733.0      3518.0   \n2022-01-11 08:30:10+00:00       901.00       892.50      1100.0      3450.0   \n2022-01-11 08:30:20+00:00       522.39       517.46       543.0       956.0   \n2022-01-11 08:30:30+00:00       486.27       481.68       459.0       410.0   \n2022-01-11 08:30:40+00:00       234.13       231.92       223.0       210.0   \n...                                ...          ...         ...         ...   \n2022-01-11 17:59:20+00:00       600.44       594.83      3086.0      1117.0   \n2022-01-11 17:59:30+00:00       382.19       378.56      2861.0       672.0   \n2022-01-11 17:59:40+00:00       454.84       450.53      1925.0       920.0   \n2022-01-11 17:59:50+00:00       982.84       973.51      4755.0      1596.0   \n2022-01-11 18:00:00+00:00      4512.02      4409.03      6806.0      3856.0   \n\n                           L10-AskPrice  L10-BidPrice  L10-AskSize  \\\ntime                                                                 \n2022-01-11 08:30:00+00:00       2833.42       2802.68      10011.0   \n2022-01-11 08:30:10+00:00        901.50        892.00       9650.0   \n2022-01-11 08:30:20+00:00        522.68        517.17       2348.0   \n2022-01-11 08:30:30+00:00        486.54        481.41        594.0   \n2022-01-11 08:30:40+00:00        234.26        231.79        286.0   \n...                                 ...           ...          ...   \n2022-01-11 17:59:20+00:00        600.77        594.50       2714.0   \n2022-01-11 17:59:30+00:00        382.40        378.35        641.0   \n2022-01-11 17:59:40+00:00        455.09        450.28       2481.0   \n2022-01-11 17:59:50+00:00        983.38        972.97       2970.0   \n2022-01-11 18:00:00+00:00       4520.01       4396.41       3303.0   \n\n                           L10-BidSize  \ntime                                    \n2022-01-11 08:30:00+00:00       5434.0  \n2022-01-11 08:30:10+00:00        705.0  \n2022-01-11 08:30:20+00:00       1565.0  \n2022-01-11 08:30:30+00:00       2025.0  \n2022-01-11 08:30:40+00:00        975.0  \n...                                ...  \n2022-01-11 17:59:20+00:00       1751.0  \n2022-01-11 17:59:30+00:00       1015.0  \n2022-01-11 17:59:40+00:00       1588.0  \n2022-01-11 17:59:50+00:00       2618.0  \n2022-01-11 18:00:00+00:00       6246.0  \n\n[3421 rows x 40 columns]",
      "text/html": "<div>\n<style scoped>\n    .dataframe tbody tr th:only-of-type {\n        vertical-align: middle;\n    }\n\n    .dataframe tbody tr th {\n        vertical-align: top;\n    }\n\n    .dataframe thead th {\n        text-align: right;\n    }\n</style>\n<table border=\"1\" class=\"dataframe\">\n  <thead>\n    <tr style=\"text-align: right;\">\n      <th></th>\n      <th>L1-AskPrice</th>\n      <th>L1-BidPrice</th>\n      <th>L1-AskSize</th>\n      <th>L1-BidSize</th>\n      <th>L2-AskPrice</th>\n      <th>L2-BidPrice</th>\n      <th>L2-AskSize</th>\n      <th>L2-BidSize</th>\n      <th>L3-AskPrice</th>\n      <th>L3-BidPrice</th>\n      <th>L3-AskSize</th>\n      <th>L3-BidSize</th>\n      <th>L4-AskPrice</th>\n      <th>L4-BidPrice</th>\n      <th>L4-AskSize</th>\n      <th>L4-BidSize</th>\n      <th>L5-AskPrice</th>\n      <th>L5-BidPrice</th>\n      <th>L5-AskSize</th>\n      <th>L5-BidSize</th>\n      <th>L6-AskPrice</th>\n      <th>L6-BidPrice</th>\n      <th>L6-AskSize</th>\n      <th>L6-BidSize</th>\n      <th>L7-AskPrice</th>\n      <th>L7-BidPrice</th>\n      <th>L7-AskSize</th>\n      <th>L7-BidSize</th>\n      <th>L8-AskPrice</th>\n      <th>L8-BidPrice</th>\n      <th>L8-AskSize</th>\n      <th>L8-BidSize</th>\n      <th>L9-AskPrice</th>\n      <th>L9-BidPrice</th>\n      <th>L9-AskSize</th>\n      <th>L9-BidSize</th>\n      <th>L10-AskPrice</th>\n      <th>L10-BidPrice</th>\n      <th>L10-AskSize</th>\n      <th>L10-BidSize</th>\n    </tr>\n    <tr>\n      <th>time</th>\n      <th></th>\n      <th></th>\n      <th></th>\n      <th></th>\n      <th></th>\n      <th></th>\n      <th></th>\n      <th></th>\n      <th></th>\n      <th></th>\n      <th></th>\n      <th></th>\n      <th></th>\n      <th></th>\n      <th></th>\n      <th></th>\n      <th></th>\n      <th></th>\n      <th></th>\n      <th></th>\n      <th></th>\n      <th></th>\n      <th></th>\n      <th></th>\n      <th></th>\n      <th></th>\n      <th></th>\n      <th></th>\n      <th></th>\n      <th></th>\n      <th></th>\n      <th></th>\n      <th></th>\n      <th></th>\n      <th></th>\n      <th></th>\n      <th></th>\n      <th></th>\n      <th></th>\n      <th></th>\n    </tr>\n  </thead>\n  <tbody>\n    <tr>\n      <th>2022-01-11 08:30:00+00:00</th>\n      <td>2819.29</td>\n      <td>2817.02</td>\n      <td>1056.0</td>\n      <td>2759.0</td>\n      <td>2820.86</td>\n      <td>2815.24</td>\n      <td>1883.0</td>\n      <td>1314.0</td>\n      <td>2822.43</td>\n      <td>2813.67</td>\n      <td>2490.0</td>\n      <td>1648.0</td>\n      <td>2824.00</td>\n      <td>2812.10</td>\n      <td>7177.0</td>\n      <td>3336.0</td>\n      <td>2825.57</td>\n      <td>2810.53</td>\n      <td>16060.0</td>\n      <td>4640.0</td>\n      <td>2827.14</td>\n      <td>2808.96</td>\n      <td>6301.0</td>\n      <td>4514.0</td>\n      <td>2828.71</td>\n      <td>2807.39</td>\n      <td>12580.0</td>\n      <td>1788.0</td>\n      <td>2830.28</td>\n      <td>2805.82</td>\n      <td>16858.0</td>\n      <td>1324.0</td>\n      <td>2831.85</td>\n      <td>2804.25</td>\n      <td>6733.0</td>\n      <td>3518.0</td>\n      <td>2833.42</td>\n      <td>2802.68</td>\n      <td>10011.0</td>\n      <td>5434.0</td>\n    </tr>\n    <tr>\n      <th>2022-01-11 08:30:10+00:00</th>\n      <td>897.00</td>\n      <td>896.50</td>\n      <td>845.0</td>\n      <td>901.0</td>\n      <td>897.50</td>\n      <td>896.00</td>\n      <td>806.0</td>\n      <td>540.0</td>\n      <td>898.00</td>\n      <td>895.50</td>\n      <td>649.0</td>\n      <td>740.0</td>\n      <td>898.50</td>\n      <td>895.00</td>\n      <td>811.0</td>\n      <td>2800.0</td>\n      <td>899.00</td>\n      <td>894.50</td>\n      <td>3064.0</td>\n      <td>750.0</td>\n      <td>899.50</td>\n      <td>894.00</td>\n      <td>968.0</td>\n      <td>568.0</td>\n      <td>900.00</td>\n      <td>893.50</td>\n      <td>9100.0</td>\n      <td>600.0</td>\n      <td>900.50</td>\n      <td>893.00</td>\n      <td>850.0</td>\n      <td>1088.0</td>\n      <td>901.00</td>\n      <td>892.50</td>\n      <td>1100.0</td>\n      <td>3450.0</td>\n      <td>901.50</td>\n      <td>892.00</td>\n      <td>9650.0</td>\n      <td>705.0</td>\n    </tr>\n    <tr>\n      <th>2022-01-11 08:30:20+00:00</th>\n      <td>520.07</td>\n      <td>519.78</td>\n      <td>332.0</td>\n      <td>808.0</td>\n      <td>520.36</td>\n      <td>519.49</td>\n      <td>572.0</td>\n      <td>446.0</td>\n      <td>520.65</td>\n      <td>519.20</td>\n      <td>368.0</td>\n      <td>1215.0</td>\n      <td>520.94</td>\n      <td>518.91</td>\n      <td>369.0</td>\n      <td>787.0</td>\n      <td>521.23</td>\n      <td>518.62</td>\n      <td>905.0</td>\n      <td>325.0</td>\n      <td>521.52</td>\n      <td>518.33</td>\n      <td>1339.0</td>\n      <td>423.0</td>\n      <td>521.81</td>\n      <td>518.04</td>\n      <td>2200.0</td>\n      <td>615.0</td>\n      <td>522.10</td>\n      <td>517.75</td>\n      <td>3628.0</td>\n      <td>1561.0</td>\n      <td>522.39</td>\n      <td>517.46</td>\n      <td>543.0</td>\n      <td>956.0</td>\n      <td>522.68</td>\n      <td>517.17</td>\n      <td>2348.0</td>\n      <td>1565.0</td>\n    </tr>\n    <tr>\n      <th>2022-01-11 08:30:30+00:00</th>\n      <td>484.11</td>\n      <td>483.84</td>\n      <td>452.0</td>\n      <td>409.0</td>\n      <td>484.38</td>\n      <td>483.57</td>\n      <td>679.0</td>\n      <td>524.0</td>\n      <td>484.65</td>\n      <td>483.30</td>\n      <td>270.0</td>\n      <td>1485.0</td>\n      <td>484.92</td>\n      <td>483.03</td>\n      <td>382.0</td>\n      <td>324.0</td>\n      <td>485.19</td>\n      <td>482.76</td>\n      <td>432.0</td>\n      <td>270.0</td>\n      <td>485.46</td>\n      <td>482.49</td>\n      <td>1620.0</td>\n      <td>459.0</td>\n      <td>485.73</td>\n      <td>482.22</td>\n      <td>540.0</td>\n      <td>675.0</td>\n      <td>486.00</td>\n      <td>481.95</td>\n      <td>4914.0</td>\n      <td>1863.0</td>\n      <td>486.27</td>\n      <td>481.68</td>\n      <td>459.0</td>\n      <td>410.0</td>\n      <td>486.54</td>\n      <td>481.41</td>\n      <td>594.0</td>\n      <td>2025.0</td>\n    </tr>\n    <tr>\n      <th>2022-01-11 08:30:40+00:00</th>\n      <td>233.09</td>\n      <td>232.96</td>\n      <td>390.0</td>\n      <td>111.0</td>\n      <td>233.22</td>\n      <td>232.83</td>\n      <td>222.0</td>\n      <td>240.0</td>\n      <td>233.35</td>\n      <td>232.70</td>\n      <td>131.0</td>\n      <td>716.0</td>\n      <td>233.48</td>\n      <td>232.57</td>\n      <td>208.0</td>\n      <td>156.0</td>\n      <td>233.61</td>\n      <td>232.44</td>\n      <td>209.0</td>\n      <td>131.0</td>\n      <td>233.74</td>\n      <td>232.31</td>\n      <td>780.0</td>\n      <td>221.0</td>\n      <td>233.87</td>\n      <td>232.18</td>\n      <td>260.0</td>\n      <td>325.0</td>\n      <td>234.00</td>\n      <td>232.05</td>\n      <td>2361.0</td>\n      <td>897.0</td>\n      <td>234.13</td>\n      <td>231.92</td>\n      <td>223.0</td>\n      <td>210.0</td>\n      <td>234.26</td>\n      <td>231.79</td>\n      <td>286.0</td>\n      <td>975.0</td>\n    </tr>\n    <tr>\n      <th>...</th>\n      <td>...</td>\n      <td>...</td>\n      <td>...</td>\n      <td>...</td>\n      <td>...</td>\n      <td>...</td>\n      <td>...</td>\n      <td>...</td>\n      <td>...</td>\n      <td>...</td>\n      <td>...</td>\n      <td>...</td>\n      <td>...</td>\n      <td>...</td>\n      <td>...</td>\n      <td>...</td>\n      <td>...</td>\n      <td>...</td>\n      <td>...</td>\n      <td>...</td>\n      <td>...</td>\n      <td>...</td>\n      <td>...</td>\n      <td>...</td>\n      <td>...</td>\n      <td>...</td>\n      <td>...</td>\n      <td>...</td>\n      <td>...</td>\n      <td>...</td>\n      <td>...</td>\n      <td>...</td>\n      <td>...</td>\n      <td>...</td>\n      <td>...</td>\n      <td>...</td>\n      <td>...</td>\n      <td>...</td>\n      <td>...</td>\n      <td>...</td>\n    </tr>\n    <tr>\n      <th>2022-01-11 17:59:20+00:00</th>\n      <td>597.80</td>\n      <td>597.47</td>\n      <td>1008.0</td>\n      <td>678.0</td>\n      <td>598.13</td>\n      <td>597.14</td>\n      <td>907.0</td>\n      <td>1305.0</td>\n      <td>598.46</td>\n      <td>596.81</td>\n      <td>1633.0</td>\n      <td>1809.0</td>\n      <td>598.79</td>\n      <td>596.48</td>\n      <td>2298.0</td>\n      <td>1839.0</td>\n      <td>599.12</td>\n      <td>596.15</td>\n      <td>2593.0</td>\n      <td>1782.0</td>\n      <td>599.45</td>\n      <td>595.82</td>\n      <td>1740.0</td>\n      <td>2742.0</td>\n      <td>599.78</td>\n      <td>595.49</td>\n      <td>786.0</td>\n      <td>2240.0</td>\n      <td>600.11</td>\n      <td>595.16</td>\n      <td>1047.0</td>\n      <td>773.0</td>\n      <td>600.44</td>\n      <td>594.83</td>\n      <td>3086.0</td>\n      <td>1117.0</td>\n      <td>600.77</td>\n      <td>594.50</td>\n      <td>2714.0</td>\n      <td>1751.0</td>\n    </tr>\n    <tr>\n      <th>2022-01-11 17:59:30+00:00</th>\n      <td>380.51</td>\n      <td>380.24</td>\n      <td>682.0</td>\n      <td>346.0</td>\n      <td>380.72</td>\n      <td>380.03</td>\n      <td>638.0</td>\n      <td>802.0</td>\n      <td>380.93</td>\n      <td>379.82</td>\n      <td>1371.0</td>\n      <td>1015.0</td>\n      <td>381.14</td>\n      <td>379.61</td>\n      <td>1527.0</td>\n      <td>1163.0</td>\n      <td>381.35</td>\n      <td>379.40</td>\n      <td>1693.0</td>\n      <td>1135.0</td>\n      <td>381.56</td>\n      <td>379.19</td>\n      <td>541.0</td>\n      <td>1547.0</td>\n      <td>381.77</td>\n      <td>378.98</td>\n      <td>533.0</td>\n      <td>1701.0</td>\n      <td>381.98</td>\n      <td>378.77</td>\n      <td>844.0</td>\n      <td>448.0</td>\n      <td>382.19</td>\n      <td>378.56</td>\n      <td>2861.0</td>\n      <td>672.0</td>\n      <td>382.40</td>\n      <td>378.35</td>\n      <td>641.0</td>\n      <td>1015.0</td>\n    </tr>\n    <tr>\n      <th>2022-01-11 17:59:40+00:00</th>\n      <td>452.84</td>\n      <td>452.53</td>\n      <td>406.0</td>\n      <td>809.0</td>\n      <td>453.09</td>\n      <td>452.28</td>\n      <td>645.0</td>\n      <td>783.0</td>\n      <td>453.34</td>\n      <td>452.03</td>\n      <td>1060.0</td>\n      <td>1259.0</td>\n      <td>453.59</td>\n      <td>451.78</td>\n      <td>1716.0</td>\n      <td>1284.0</td>\n      <td>453.84</td>\n      <td>451.53</td>\n      <td>1897.0</td>\n      <td>1379.0</td>\n      <td>454.09</td>\n      <td>451.28</td>\n      <td>1503.0</td>\n      <td>2604.0</td>\n      <td>454.34</td>\n      <td>451.03</td>\n      <td>593.0</td>\n      <td>751.0</td>\n      <td>454.59</td>\n      <td>450.78</td>\n      <td>759.0</td>\n      <td>673.0</td>\n      <td>454.84</td>\n      <td>450.53</td>\n      <td>1925.0</td>\n      <td>920.0</td>\n      <td>455.09</td>\n      <td>450.28</td>\n      <td>2481.0</td>\n      <td>1588.0</td>\n    </tr>\n    <tr>\n      <th>2022-01-11 17:59:50+00:00</th>\n      <td>978.52</td>\n      <td>977.83</td>\n      <td>893.0</td>\n      <td>1023.0</td>\n      <td>979.06</td>\n      <td>977.29</td>\n      <td>1544.0</td>\n      <td>1325.0</td>\n      <td>979.60</td>\n      <td>976.75</td>\n      <td>2952.0</td>\n      <td>2155.0</td>\n      <td>980.14</td>\n      <td>976.21</td>\n      <td>3657.0</td>\n      <td>2466.0</td>\n      <td>980.68</td>\n      <td>975.67</td>\n      <td>3229.0</td>\n      <td>2796.0</td>\n      <td>981.22</td>\n      <td>975.13</td>\n      <td>1795.0</td>\n      <td>4159.0</td>\n      <td>981.76</td>\n      <td>974.59</td>\n      <td>1726.0</td>\n      <td>3011.0</td>\n      <td>982.30</td>\n      <td>974.05</td>\n      <td>3121.0</td>\n      <td>2358.0</td>\n      <td>982.84</td>\n      <td>973.51</td>\n      <td>4755.0</td>\n      <td>1596.0</td>\n      <td>983.38</td>\n      <td>972.97</td>\n      <td>2970.0</td>\n      <td>2618.0</td>\n    </tr>\n    <tr>\n      <th>2022-01-11 18:00:00+00:00</th>\n      <td>4462.94</td>\n      <td>4452.69</td>\n      <td>4831.0</td>\n      <td>467.0</td>\n      <td>4465.90</td>\n      <td>4443.91</td>\n      <td>4564.0</td>\n      <td>3411.0</td>\n      <td>4468.58</td>\n      <td>4438.47</td>\n      <td>11181.0</td>\n      <td>3151.0</td>\n      <td>4474.53</td>\n      <td>4434.39</td>\n      <td>1420.0</td>\n      <td>4607.0</td>\n      <td>4477.72</td>\n      <td>4429.16</td>\n      <td>2289.0</td>\n      <td>7349.0</td>\n      <td>4487.94</td>\n      <td>4425.06</td>\n      <td>7211.0</td>\n      <td>4949.0</td>\n      <td>4498.26</td>\n      <td>4420.23</td>\n      <td>18797.0</td>\n      <td>11924.0</td>\n      <td>4505.90</td>\n      <td>4415.05</td>\n      <td>4967.0</td>\n      <td>4924.0</td>\n      <td>4512.02</td>\n      <td>4409.03</td>\n      <td>6806.0</td>\n      <td>3856.0</td>\n      <td>4520.01</td>\n      <td>4396.41</td>\n      <td>3303.0</td>\n      <td>6246.0</td>\n    </tr>\n  </tbody>\n</table>\n<p>3421 rows × 40 columns</p>\n</div>"
     },
     "execution_count": 113,
     "metadata": {},
     "output_type": "execute_result"
    }
   ],
   "source": [
    "df.set_index('time').resample('10S').sum()"
   ],
   "metadata": {
    "collapsed": false
   }
  },
  {
   "cell_type": "code",
   "execution_count": null,
   "outputs": [],
   "source": [
    "_p_A_lh = pd.concat( my_dict['_p_Ask'], axis=1) # price of ask side from low->high price\n",
    "_q_A_lh = pd.concat( my_dict['_q_Ask'], axis=1) # quantity of ask side from low->high price\n",
    "_logcum_q_A_lh = np.log(_q_A_lh.cumsum(axis=1)) # log of cumulative sum over a set of (low->high) price points\n",
    "# Price: B1 > B2 > B3 ... B1 is highest bidder\n",
    "_p_B_lh = pd.concat( my_dict['_p_Bid'][::-1], axis=1) # price of ask side from low->high price\n",
    "_q_B_lh = pd.concat( my_dict['_q_Bid'][::-1], axis=1) # quantity of ask side from low->high\n",
    "_q_B_hl = pd.concat( my_dict['_q_Bid'], axis=1) # quantity of ask side from high->low price\n",
    "_logcum_q_B_lh = np.log(_q_B_hl[_q_B_hl.columns[::-1]].cumsum(axis=1)) # log of cumulative sum over a"
   ],
   "metadata": {
    "collapsed": false
   }
  },
  {
   "cell_type": "markdown",
   "source": [
    "# dataset walkthrough\n",
    "\n",
    "- Convert string to timestamp\n",
    "- get rid of time zone\n",
    "- Create column of year,month, day properly; Create"
   ],
   "metadata": {
    "collapsed": false
   }
  },
  {
   "cell_type": "code",
   "execution_count": 77,
   "outputs": [
    {
     "data": {
      "text/plain": "                  date   HUFL   HULL   MUFL   MULL   LUFL   LULL         OT\n0  2016-07-01 00:00:00  5.827  2.009  1.599  0.462  4.203  1.340  30.531000\n1  2016-07-01 01:00:00  5.693  2.076  1.492  0.426  4.142  1.371  27.787001",
      "text/html": "<div>\n<style scoped>\n    .dataframe tbody tr th:only-of-type {\n        vertical-align: middle;\n    }\n\n    .dataframe tbody tr th {\n        vertical-align: top;\n    }\n\n    .dataframe thead th {\n        text-align: right;\n    }\n</style>\n<table border=\"1\" class=\"dataframe\">\n  <thead>\n    <tr style=\"text-align: right;\">\n      <th></th>\n      <th>date</th>\n      <th>HUFL</th>\n      <th>HULL</th>\n      <th>MUFL</th>\n      <th>MULL</th>\n      <th>LUFL</th>\n      <th>LULL</th>\n      <th>OT</th>\n    </tr>\n  </thead>\n  <tbody>\n    <tr>\n      <th>0</th>\n      <td>2016-07-01 00:00:00</td>\n      <td>5.827</td>\n      <td>2.009</td>\n      <td>1.599</td>\n      <td>0.462</td>\n      <td>4.203</td>\n      <td>1.340</td>\n      <td>30.531000</td>\n    </tr>\n    <tr>\n      <th>1</th>\n      <td>2016-07-01 01:00:00</td>\n      <td>5.693</td>\n      <td>2.076</td>\n      <td>1.492</td>\n      <td>0.426</td>\n      <td>4.142</td>\n      <td>1.371</td>\n      <td>27.787001</td>\n    </tr>\n  </tbody>\n</table>\n</div>"
     },
     "execution_count": 77,
     "metadata": {},
     "output_type": "execute_result"
    }
   ],
   "source": [
    "df_raw = pd.read_csv(os.path.join(\"../data/six/ETT-small\",'ETTh1.csv'))\n",
    "df_raw.head(2)"
   ],
   "metadata": {
    "collapsed": false
   }
  },
  {
   "cell_type": "code",
   "execution_count": 84,
   "outputs": [
    {
     "name": "stdout",
     "output_type": "stream",
     "text": [
      "[8640, 11520, 14400] [0, 8256, 11136] 384 0 8640\n"
     ]
    }
   ],
   "source": [
    "flag = 'train'\n",
    "type_map = {'train': 0, 'val': 1, 'test': 2}\n",
    "set_type = type_map[flag]\n",
    "seq_len = 24 * 4 * 4\n",
    "border1s = [0, 12 * 30 * 24 - seq_len, 12 * 30 * 24 + 4 * 30 * 24 - seq_len] # for train, valid, test\n",
    "border2s = [12 * 30 * 24, 12 * 30 * 24 + 4 * 30 * 24, 12 * 30 * 24 + 8 * 30 * 24]\n",
    "border1 = border1s[set_type]\n",
    "border2 = border2s[set_type]\n",
    "\n",
    "print(border2s,border1s, seq_len, border1, border2) # 12*30*24 is hours in a year)"
   ],
   "metadata": {
    "collapsed": false
   }
  },
  {
   "cell_type": "code",
   "execution_count": 50,
   "outputs": [],
   "source": [
    "features = 'S'\n",
    "target = 'OT'\n",
    "if features=='M' or features=='MS':\n",
    "    cols_data = df_raw.columns[1:]\n",
    "    df_data = df_raw[cols_data]\n",
    "elif features=='S':\n",
    "    df_data = df_raw[[target]]"
   ],
   "metadata": {
    "collapsed": false
   }
  },
  {
   "cell_type": "code",
   "execution_count": 82,
   "outputs": [
    {
     "data": {
      "text/plain": "array([[1.46055158],\n       [1.16152666],\n       [1.16152666]])"
     },
     "execution_count": 82,
     "metadata": {},
     "output_type": "execute_result"
    }
   ],
   "source": [
    "from sklearn.preprocessing import StandardScaler\n",
    "\n",
    "scale = 'True'\n",
    "scaler = StandardScaler()\n",
    "\n",
    "if scale:\n",
    "    train_data = df_data[border1s[0]:border2s[0]] # 0:8640\n",
    "    scaler.fit(train_data.values)\n",
    "    data = scaler.transform(df_data.values)\n",
    "else:\n",
    "    data = df_data.values\n",
    "\n",
    "data[:3]"
   ],
   "metadata": {
    "collapsed": false
   }
  },
  {
   "cell_type": "code",
   "execution_count": null,
   "outputs": [],
   "source": [
    "df_stamp = df_raw[['date']][border1:border2]\n",
    "df_stamp['date'] = pd.to_datetime(df_stamp.date)"
   ],
   "metadata": {
    "collapsed": false
   }
  },
  {
   "cell_type": "code",
   "execution_count": 76,
   "outputs": [
    {
     "data": {
      "text/plain": "array([[7, 1, 4, 0],\n       [7, 1, 4, 1]])"
     },
     "execution_count": 76,
     "metadata": {},
     "output_type": "execute_result"
    }
   ],
   "source": [
    "from utils.timefeatures import time_features\n",
    "freq = 'h'\n",
    "timeenc = 0\n",
    "if timeenc == 0:\n",
    "    df_stamp['month'] = df_stamp.date.apply(lambda row: row.month,1) #! this 1 is for convert_dtypebool,not axis\n",
    "    df_stamp['day'] = df_stamp.date.apply(lambda row: row.day,1)\n",
    "    df_stamp['weekday'] = df_stamp.date.apply(lambda row: row.weekday(),1)\n",
    "    df_stamp['hour'] = df_stamp.date.apply(lambda row: row.hour,1)\n",
    "    data_stamp = df_stamp.drop(['date'], axis=1).values\n",
    "elif timeenc == 1:\n",
    "    data_stamp = time_features(pd.to_datetime(df_stamp['date'].values), freq=freq)\n",
    "    data_stamp = data_stamp.transpose(1, 0)\n",
    "data_stamp[:2]"
   ],
   "metadata": {
    "collapsed": false
   }
  },
  {
   "cell_type": "code",
   "execution_count": 93,
   "outputs": [],
   "source": [
    "data_x = data[border1:border2]\n",
    "data_y = data[border1:border2]"
   ],
   "metadata": {
    "collapsed": false
   }
  },
  {
   "cell_type": "code",
   "execution_count": 100,
   "outputs": [
    {
     "name": "stdout",
     "output_type": "stream",
     "text": [
      "seq_len 384, label_len 96, pred_len 96\n",
      "s_begin, 100 seq_len 384, s_end 484\n",
      "r_begin 388, r_end 580\n",
      "seq_x (384, 1), seq_x_mark (384, 4), [7 5 1 4]\n"
     ]
    }
   ],
   "source": [
    "seq_len = 24 * 4 * 4\n",
    "label_len = 24 * 4\n",
    "pred_len = 24 * 4\n",
    "\n",
    "print(f'seq_len {seq_len}, label_len {label_len}, pred_len {pred_len}')\n",
    "\n",
    "\n",
    "index=100\n",
    "s_begin = index\n",
    "s_end = s_begin + seq_len\n",
    "\n",
    "print(f's_begin, {s_begin} seq_len {seq_len}, s_end {s_end}')\n",
    "\n",
    "r_begin = s_end - label_len\n",
    "r_end = r_begin + label_len + pred_len\n",
    "\n",
    "print(f'r_begin {r_begin}, r_end {r_end}')\n",
    "\n",
    "seq_x = data_x[s_begin:s_end]\n",
    "seq_y = data_y[r_begin:r_end]\n",
    "seq_x_mark = data_stamp[s_begin:s_end]\n",
    "seq_y_mark = data_stamp[r_begin:r_end]\n",
    "\n",
    "print(f'seq_x {seq_x.shape}, seq_x_mark {seq_x_mark.shape}, {seq_x_mark[0]}')"
   ],
   "metadata": {
    "collapsed": false
   }
  },
  {
   "cell_type": "code",
   "execution_count": 102,
   "outputs": [
    {
     "data": {
      "text/plain": "8161"
     },
     "execution_count": 102,
     "metadata": {},
     "output_type": "execute_result"
    }
   ],
   "source": [
    "len(data_x) - seq_len - pred_len + 1"
   ],
   "metadata": {
    "collapsed": false
   }
  },
  {
   "cell_type": "code",
   "execution_count": 104,
   "outputs": [
    {
     "data": {
      "text/plain": "array([[30.53100014],\n       [27.78700066],\n       [27.78700066]])"
     },
     "execution_count": 104,
     "metadata": {},
     "output_type": "execute_result"
    }
   ],
   "source": [
    "scaler.inverse_transform(data)[:3]"
   ],
   "metadata": {
    "collapsed": false
   }
  },
  {
   "cell_type": "code",
   "execution_count": null,
   "outputs": [],
   "source": [
    "class Dataset_ETT_hour(Dataset):\n",
    "    def __init__(self, root_path, flag='train', size=None,\n",
    "                 features='S', data_path='./data/six/ETT-small/ETTh1.csv',\n",
    "                 target='OT', scale=True, timeenc=0, freq='h'):\n",
    "        # size [seq_len, label_len, pred_len]\n",
    "        # info\n",
    "        if size == None:\n",
    "            self.seq_len = 24 * 4 * 4\n",
    "            self.label_len = 24 * 4\n",
    "            self.pred_len = 24 * 4\n",
    "        else:\n",
    "            self.seq_len = size[0]\n",
    "            self.label_len = size[1]\n",
    "            self.pred_len = size[2]\n",
    "        # init\n",
    "        assert flag in ['train', 'test', 'val']\n",
    "        type_map = {'train': 0, 'val': 1, 'test': 2}\n",
    "        self.set_type = type_map[flag]\n",
    "\n",
    "        self.features = features\n",
    "        self.target = target\n",
    "        self.scale = scale\n",
    "        self.timeenc = timeenc\n",
    "        self.freq = freq\n",
    "\n",
    "        self.root_path = root_path\n",
    "        self.data_path = data_path\n",
    "        self.__read_data__()\n",
    "\n",
    "    def __read_data__(self):\n",
    "        self.scaler = StandardScaler()\n",
    "        df_raw = pd.read_csv(os.path.join(self.root_path,\n",
    "                                          self.data_path))\n",
    "\n",
    "        border1s = [0, 12 * 30 * 24 - self.seq_len, 12 * 30 * 24 + 4 * 30 * 24 - self.seq_len]\n",
    "        border2s = [12 * 30 * 24, 12 * 30 * 24 + 4 * 30 * 24, 12 * 30 * 24 + 8 * 30 * 24]\n",
    "        border1 = border1s[self.set_type]\n",
    "        border2 = border2s[self.set_type]\n",
    "\n",
    "        if self.features == 'M' or self.features == 'MS':\n",
    "            cols_data = df_raw.columns[1:]\n",
    "            df_data = df_raw[cols_data]\n",
    "        elif self.features == 'S':\n",
    "            df_data = df_raw[[self.target]]\n",
    "\n",
    "        if self.scale:\n",
    "            train_data = df_data[border1s[0]:border2s[0]]\n",
    "            self.scaler.fit(train_data.values)\n",
    "            data = self.scaler.transform(df_data.values)\n",
    "        else:\n",
    "            data = df_data.values\n",
    "\n",
    "        df_stamp = df_raw[['date']][border1:border2]\n",
    "        df_stamp['date'] = pd.to_datetime(df_stamp.date)\n",
    "        if self.timeenc == 0:\n",
    "            df_stamp['month'] = df_stamp.date.apply(lambda row: row.month, 1)\n",
    "            df_stamp['day'] = df_stamp.date.apply(lambda row: row.day, 1)\n",
    "            df_stamp['weekday'] = df_stamp.date.apply(lambda row: row.weekday(), 1)\n",
    "            df_stamp['hour'] = df_stamp.date.apply(lambda row: row.hour, 1)\n",
    "            data_stamp = df_stamp.drop(['date'], 1).values\n",
    "        elif self.timeenc == 1:\n",
    "            data_stamp = time_features(pd.to_datetime(df_stamp['date'].values), freq=self.freq)\n",
    "            data_stamp = data_stamp.transpose(1, 0)\n",
    "\n",
    "        self.data_x = data[border1:border2]\n",
    "        self.data_y = data[border1:border2]\n",
    "        self.data_stamp = data_stamp\n",
    "\n",
    "    def __getitem__(self, index):\n",
    "        s_begin = index\n",
    "        s_end = s_begin + self.seq_len\n",
    "        r_begin = s_end - self.label_len\n",
    "        r_end = r_begin + self.label_len + self.pred_len\n",
    "\n",
    "        seq_x = self.data_x[s_begin:s_end]\n",
    "        seq_y = self.data_y[r_begin:r_end]\n",
    "        seq_x_mark = self.data_stamp[s_begin:s_end]\n",
    "        seq_y_mark = self.data_stamp[r_begin:r_end]\n",
    "\n",
    "        return seq_x, seq_y, seq_x_mark, seq_y_mark\n",
    "\n",
    "    def __len__(self):\n",
    "        return len(self.data_x) - self.seq_len - self.pred_len + 1\n",
    "\n",
    "    def inverse_transform(self, data):\n",
    "        return self.scaler.inverse_transform(data)"
   ],
   "metadata": {
    "collapsed": false
   }
  }
 ],
 "metadata": {
  "kernelspec": {
   "display_name": "Python 3",
   "language": "python",
   "name": "python3"
  },
  "language_info": {
   "codemirror_mode": {
    "name": "ipython",
    "version": 2
   },
   "file_extension": ".py",
   "mimetype": "text/x-python",
   "name": "python",
   "nbconvert_exporter": "python",
   "pygments_lexer": "ipython2",
   "version": "2.7.6"
  }
 },
 "nbformat": 4,
 "nbformat_minor": 0
}
